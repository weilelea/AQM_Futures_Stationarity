{
 "cells": [
  {
   "cell_type": "code",
   "execution_count": null,
   "metadata": {},
   "outputs": [],
   "source": [
    "# Import packages\n",
    "\n",
    "import pandas as pd\n",
    "from statsmodels.tsa.stattools import adfuller\n"
   ]
  },
  {
   "cell_type": "code",
   "execution_count": null,
   "metadata": {},
   "outputs": [],
   "source": [
    "# Import the data\n",
    "\n",
    "data = pd.read_excel('Futures_2020.xlsx')"
   ]
  },
  {
   "cell_type": "code",
   "execution_count": null,
   "metadata": {},
   "outputs": [],
   "source": [
    "#convert the lists into dataframe\n",
    "data=pd.DataFrame(data,columns=['Date', 'WTI','Brent','Lumber','Natural Gas','Corn','Gold','Soybean','Wheat','Hot-Rolled Coil','Irone Ore','Silver','Lean Hogs','Cattle Life','Palladium','Platinum','Aluminium','Polyethylene','Coffee Robusta','Rice Rough','Cocoa'])\n",
    "data.head()"
   ]
  },
  {
   "cell_type": "code",
   "execution_count": null,
   "metadata": {},
   "outputs": [],
   "source": [
    "#set a date as index \n",
    "data.set_index('Date')"
   ]
  },
  {
   "cell_type": "code",
   "execution_count": null,
   "metadata": {},
   "outputs": [],
   "source": [
    "# Testing for Stationarity\n",
    "\n",
    "#define instruments\n",
    "instruments=['WTI','Brent','Lumber','Natural Gas','Corn','Gold','Soybean','Wheat','Hot-Rolled Coil','Irone Ore','Silver','Lean Hogs','Cattle Life','Palladium','Platinum','Aluminium','Polyethylene','Coffee Robusta','Rice Rough','Cocoa']"
   ]
  },
  {
   "cell_type": "code",
   "execution_count": null,
   "metadata": {},
   "outputs": [],
   "source": [
    "#Stationarity Test in Level\n",
    "\n",
    "for lags in range(1,3):\n",
    "    print('Number of lags used:',lags)\n",
    "    print('ADF P-Val for Prices (Level)')\n",
    "    for i in instruments:\n",
    "        adf_library = adfuller(data[i], maxlag=lags, regression='nc',autolag=None)\n",
    "        adf_library_d = adfuller(np.diff(data[i]), maxlag=lags, regression='nc',autolag=None)\n",
    "\n",
    "        print(i,':',\"%.2f\" %  adf_library[1],)\n",
    "    print('____________________________________________','\\n')"
   ]
  },
  {
   "cell_type": "code",
   "execution_count": null,
   "metadata": {},
   "outputs": [],
   "source": [
    "#Stationarity Test in First Difference\n",
    "\n",
    "for lags in range(1,3):\n",
    "    print('Number of lags used:',lags)\n",
    "    print('ADF P-Val for Absolute Returns (1st Difference)')\n",
    "    for i in instruments:\n",
    "        adf_library = adfuller(data[i], maxlag=lags, regression='nc',autolag=None)\n",
    "        adf_library_d = adfuller(np.diff(data[i]), maxlag=lags, regression='nc',autolag=None)\n",
    "\n",
    "        print(i,':',\"%.2f\" %  adf_library_d[1])\n",
    "    print('____________________________________________','\\n')"
   ]
  },
  {
   "cell_type": "code",
   "execution_count": null,
   "metadata": {},
   "outputs": [],
   "source": []
  }
 ],
 "metadata": {
  "kernelspec": {
   "display_name": "Python 3",
   "language": "python",
   "name": "python3"
  },
  "language_info": {
   "codemirror_mode": {
    "name": "ipython",
    "version": 3
   },
   "file_extension": ".py",
   "mimetype": "text/x-python",
   "name": "python",
   "nbconvert_exporter": "python",
   "pygments_lexer": "ipython3",
   "version": "3.8.3"
  }
 },
 "nbformat": 4,
 "nbformat_minor": 4
}
